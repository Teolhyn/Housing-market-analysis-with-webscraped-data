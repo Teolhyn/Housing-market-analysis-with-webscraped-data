{
 "cells": [
  {
   "cell_type": "markdown",
   "id": "ae1e6f30",
   "metadata": {},
   "source": [
    "# Hobby project: Webscraping etuovi.com to get data for analyzing the housing market in Finland."
   ]
  },
  {
   "cell_type": "code",
   "execution_count": 1,
   "id": "b4dc50b6",
   "metadata": {},
   "outputs": [],
   "source": [
    "from bs4 import BeautifulSoup # this module helps in web scrapping.\n",
    "import requests  # this module helps us to download a web page.\n",
    "import pandas as pd\n",
    "import itertools\n",
    "from tqdm import tqdm\n",
    "import time\n",
    "from datetime import date"
   ]
  },
  {
   "cell_type": "markdown",
   "id": "1f5f3b3b",
   "metadata": {},
   "source": [
    "## Scraping the hrefs of all of the house adverts (cards) that were listed in Finland.\n"
   ]
  },
  {
   "cell_type": "code",
   "execution_count": 19,
   "id": "3c124188",
   "metadata": {},
   "outputs": [
    {
     "name": "stderr",
     "output_type": "stream",
     "text": [
      "100%|██████████| 1606/1606 [23:57<00:00,  1.12it/s]\n"
     ]
    }
   ],
   "source": [
    "#TODO: save hrefs to file so they can be opened when developing the next cell.\n",
    "\n",
    "# Download webpage (etuovi.com, Turku).\n",
    "url = \"https://www.etuovi.com/myytavat-asunnot?haku=M1857661494\"\n",
    "# Download contents in text format.\n",
    "data = requests.get(url).text\n",
    "\n",
    "soup = BeautifulSoup(data, \"html.parser\")\n",
    "\n",
    "# Firstly, lets get the amount of pages we need to go through:\n",
    "# no_pages = 5\n",
    "no_pages = int([i.string for i in soup.find('div', class_= 'Pagination__Col-sc-3ydysw-1 kpHoDY').next_sibling.next_sibling.next_sibling.next_sibling.next_sibling.next_element][0])\n",
    "houses_href = []\n",
    "\n",
    "for i in tqdm(range(1,no_pages + 1)):\n",
    "    # Download webpage (etuovi.com, Turku).\n",
    "    url = \"https://www.etuovi.com/myytavat-asunnot?haku=M1857661494&sivu=\" + str(i)\n",
    "    # Download contents in text format.\n",
    "    data = requests.get(url).text\n",
    "\n",
    "    soup = BeautifulSoup(data, \"html.parser\")\n",
    "\n",
    "    # Scrape all links on page\n",
    "\n",
    "    project_href = [i['href'] for i in soup.find_all('a', href=True)]\n",
    "    # print(project_href)\n",
    "\n",
    "    #Filter out links that are not houses for sale\n",
    "\n",
    "    for i in project_href:\n",
    "        if i.startswith('/kohde'):\n",
    "            houses_href.append(i)\n",
    "\n",
    "    time.sleep(0.25) #Lets not overload servers"
   ]
  },
  {
   "cell_type": "code",
   "execution_count": 20,
   "id": "56590ccd",
   "metadata": {},
   "outputs": [
    {
     "name": "stdout",
     "output_type": "stream",
     "text": [
      "Amount of links before: 48178\n",
      "Amount of links after removing duplicates: 48165\n"
     ]
    }
   ],
   "source": [
    "# Just to make sure lets remove possible duplicates.\n",
    "print(\"Amount of links before:\", len(houses_href))\n",
    "\n",
    "houses_href = list(dict.fromkeys(houses_href))\n",
    "print(\"Amount of links after removing duplicates:\", len(houses_href))\n",
    "\n",
    "# print(houses_href)"
   ]
  },
  {
   "cell_type": "markdown",
   "id": "e5daf30a",
   "metadata": {},
   "source": [
    "## Scraping data from the adverts\n",
    "This part iterates through all of the adverts and looks for values like type, address, price, size and year. In the end it transforms it to a pandas dataframe. NOTE: This iteration is quite large and it takes approximately 10 hours."
   ]
  },
  {
   "cell_type": "code",
   "execution_count": 21,
   "id": "27cd7c72",
   "metadata": {},
   "outputs": [
    {
     "name": "stderr",
     "output_type": "stream",
     "text": [
      "  2%|▏         | 1012/48165 [12:23<9:29:05,  1.38it/s] "
     ]
    },
    {
     "name": "stdout",
     "output_type": "stream",
     "text": [
      "Saved a backup of  1000  iterations.\n"
     ]
    },
    {
     "name": "stderr",
     "output_type": "stream",
     "text": [
      "  4%|▍         | 2031/48165 [25:09<9:00:14,  1.42it/s] "
     ]
    },
    {
     "name": "stdout",
     "output_type": "stream",
     "text": [
      "Saved a backup of  2000  iterations.\n"
     ]
    },
    {
     "name": "stderr",
     "output_type": "stream",
     "text": [
      "  6%|▋         | 3060/48165 [38:02<8:48:39,  1.42it/s] "
     ]
    },
    {
     "name": "stdout",
     "output_type": "stream",
     "text": [
      "Saved a backup of  3000  iterations.\n"
     ]
    },
    {
     "name": "stderr",
     "output_type": "stream",
     "text": [
      "  8%|▊         | 4074/48165 [50:39<9:45:15,  1.26it/s] "
     ]
    },
    {
     "name": "stdout",
     "output_type": "stream",
     "text": [
      "Saved a backup of  4000  iterations.\n"
     ]
    },
    {
     "name": "stderr",
     "output_type": "stream",
     "text": [
      " 11%|█         | 5157/48165 [1:04:16<8:36:52,  1.39it/s] "
     ]
    },
    {
     "name": "stdout",
     "output_type": "stream",
     "text": [
      "Saved a backup of  5000  iterations.\n"
     ]
    },
    {
     "name": "stderr",
     "output_type": "stream",
     "text": [
      " 13%|█▎        | 6178/48165 [1:17:23<8:47:16,  1.33it/s] "
     ]
    },
    {
     "name": "stdout",
     "output_type": "stream",
     "text": [
      "Saved a backup of  6000  iterations.\n"
     ]
    },
    {
     "name": "stderr",
     "output_type": "stream",
     "text": [
      " 15%|█▍        | 7197/48165 [1:30:45<8:05:26,  1.41it/s] "
     ]
    },
    {
     "name": "stdout",
     "output_type": "stream",
     "text": [
      "Saved a backup of  7000  iterations.\n"
     ]
    },
    {
     "name": "stderr",
     "output_type": "stream",
     "text": [
      " 17%|█▋        | 8219/48165 [1:43:40<9:05:06,  1.22it/s] "
     ]
    },
    {
     "name": "stdout",
     "output_type": "stream",
     "text": [
      "Saved a backup of  8000  iterations.\n"
     ]
    },
    {
     "name": "stderr",
     "output_type": "stream",
     "text": [
      " 19%|█▉        | 9237/48165 [1:56:25<7:57:00,  1.36it/s] "
     ]
    },
    {
     "name": "stdout",
     "output_type": "stream",
     "text": [
      "Saved a backup of  9000  iterations.\n"
     ]
    },
    {
     "name": "stderr",
     "output_type": "stream",
     "text": [
      " 21%|██▏       | 10261/48165 [2:09:20<7:43:27,  1.36it/s] "
     ]
    },
    {
     "name": "stdout",
     "output_type": "stream",
     "text": [
      "Saved a backup of  10000  iterations.\n"
     ]
    },
    {
     "name": "stderr",
     "output_type": "stream",
     "text": [
      " 23%|██▎       | 11289/48165 [2:22:17<7:56:36,  1.29it/s] "
     ]
    },
    {
     "name": "stdout",
     "output_type": "stream",
     "text": [
      "Saved a backup of  11000  iterations.\n"
     ]
    },
    {
     "name": "stderr",
     "output_type": "stream",
     "text": [
      " 26%|██▌       | 12343/48165 [2:35:10<7:07:10,  1.40it/s] "
     ]
    },
    {
     "name": "stdout",
     "output_type": "stream",
     "text": [
      "Saved a backup of  12000  iterations.\n"
     ]
    },
    {
     "name": "stderr",
     "output_type": "stream",
     "text": [
      " 28%|██▊       | 13378/48165 [2:48:11<6:43:55,  1.44it/s] "
     ]
    },
    {
     "name": "stdout",
     "output_type": "stream",
     "text": [
      "Saved a backup of  13000  iterations.\n"
     ]
    },
    {
     "name": "stderr",
     "output_type": "stream",
     "text": [
      " 30%|██▉       | 14411/48165 [3:01:12<7:11:38,  1.30it/s] "
     ]
    },
    {
     "name": "stdout",
     "output_type": "stream",
     "text": [
      "Saved a backup of  14000  iterations.\n"
     ]
    },
    {
     "name": "stderr",
     "output_type": "stream",
     "text": [
      " 32%|███▏      | 15435/48165 [3:14:02<7:02:59,  1.29it/s] "
     ]
    },
    {
     "name": "stdout",
     "output_type": "stream",
     "text": [
      "Saved a backup of  15000  iterations.\n"
     ]
    },
    {
     "name": "stderr",
     "output_type": "stream",
     "text": [
      " 34%|███▍      | 16460/48165 [3:26:59<6:36:15,  1.33it/s] "
     ]
    },
    {
     "name": "stdout",
     "output_type": "stream",
     "text": [
      "Saved a backup of  16000  iterations.\n"
     ]
    },
    {
     "name": "stderr",
     "output_type": "stream",
     "text": [
      " 36%|███▋      | 17483/48165 [3:39:44<6:29:57,  1.31it/s]"
     ]
    },
    {
     "name": "stdout",
     "output_type": "stream",
     "text": [
      "Saved a backup of  17000  iterations.\n"
     ]
    },
    {
     "name": "stderr",
     "output_type": "stream",
     "text": [
      " 38%|███▊      | 18513/48165 [3:52:30<5:30:29,  1.50it/s]"
     ]
    },
    {
     "name": "stdout",
     "output_type": "stream",
     "text": [
      "Saved a backup of  18000  iterations.\n"
     ]
    },
    {
     "name": "stderr",
     "output_type": "stream",
     "text": [
      " 41%|████      | 19589/48165 [4:05:59<6:56:25,  1.14it/s] "
     ]
    },
    {
     "name": "stdout",
     "output_type": "stream",
     "text": [
      "Saved a backup of  19000  iterations.\n"
     ]
    },
    {
     "name": "stderr",
     "output_type": "stream",
     "text": [
      " 43%|████▎     | 20625/48165 [4:18:49<5:36:57,  1.36it/s]"
     ]
    },
    {
     "name": "stdout",
     "output_type": "stream",
     "text": [
      "Saved a backup of  20000  iterations.\n"
     ]
    },
    {
     "name": "stderr",
     "output_type": "stream",
     "text": [
      " 45%|████▍     | 21648/48165 [4:31:30<5:30:02,  1.34it/s]"
     ]
    },
    {
     "name": "stdout",
     "output_type": "stream",
     "text": [
      "Saved a backup of  21000  iterations.\n"
     ]
    },
    {
     "name": "stderr",
     "output_type": "stream",
     "text": [
      " 47%|████▋     | 22671/48165 [4:44:32<5:12:04,  1.36it/s]"
     ]
    },
    {
     "name": "stdout",
     "output_type": "stream",
     "text": [
      "Saved a backup of  22000  iterations.\n"
     ]
    },
    {
     "name": "stderr",
     "output_type": "stream",
     "text": [
      " 49%|████▉     | 23709/48165 [4:57:35<5:17:38,  1.28it/s]"
     ]
    },
    {
     "name": "stdout",
     "output_type": "stream",
     "text": [
      "Saved a backup of  23000  iterations.\n"
     ]
    },
    {
     "name": "stderr",
     "output_type": "stream",
     "text": [
      " 51%|█████▏    | 24732/48165 [5:10:21<5:03:20,  1.29it/s]"
     ]
    },
    {
     "name": "stdout",
     "output_type": "stream",
     "text": [
      "Saved a backup of  24000  iterations.\n"
     ]
    },
    {
     "name": "stderr",
     "output_type": "stream",
     "text": [
      " 54%|█████▎    | 25787/48165 [5:23:57<4:45:39,  1.31it/s]"
     ]
    },
    {
     "name": "stdout",
     "output_type": "stream",
     "text": [
      "Saved a backup of  25000  iterations.\n"
     ]
    },
    {
     "name": "stderr",
     "output_type": "stream",
     "text": [
      " 56%|█████▌    | 26808/48165 [5:37:03<4:32:53,  1.30it/s]"
     ]
    },
    {
     "name": "stdout",
     "output_type": "stream",
     "text": [
      "Saved a backup of  26000  iterations.\n"
     ]
    },
    {
     "name": "stderr",
     "output_type": "stream",
     "text": [
      " 58%|█████▊    | 27851/48165 [5:50:03<4:00:23,  1.41it/s]"
     ]
    },
    {
     "name": "stdout",
     "output_type": "stream",
     "text": [
      "Saved a backup of  27000  iterations.\n"
     ]
    },
    {
     "name": "stderr",
     "output_type": "stream",
     "text": [
      " 60%|█████▉    | 28889/48165 [6:02:59<4:02:12,  1.33it/s]"
     ]
    },
    {
     "name": "stdout",
     "output_type": "stream",
     "text": [
      "Saved a backup of  28000  iterations.\n"
     ]
    },
    {
     "name": "stderr",
     "output_type": "stream",
     "text": [
      " 62%|██████▏   | 29918/48165 [6:15:59<4:35:00,  1.11it/s]"
     ]
    },
    {
     "name": "stdout",
     "output_type": "stream",
     "text": [
      "Saved a backup of  29000  iterations.\n"
     ]
    },
    {
     "name": "stderr",
     "output_type": "stream",
     "text": [
      " 64%|██████▍   | 30944/48165 [6:29:16<4:18:43,  1.11it/s]"
     ]
    },
    {
     "name": "stdout",
     "output_type": "stream",
     "text": [
      "Saved a backup of  30000  iterations.\n"
     ]
    },
    {
     "name": "stderr",
     "output_type": "stream",
     "text": [
      " 66%|██████▋   | 31971/48165 [6:42:18<3:15:39,  1.38it/s]"
     ]
    },
    {
     "name": "stdout",
     "output_type": "stream",
     "text": [
      "Saved a backup of  31000  iterations.\n"
     ]
    },
    {
     "name": "stderr",
     "output_type": "stream",
     "text": [
      " 69%|██████▊   | 32996/48165 [6:55:10<3:23:37,  1.24it/s]"
     ]
    },
    {
     "name": "stdout",
     "output_type": "stream",
     "text": [
      "Saved a backup of  32000  iterations.\n"
     ]
    },
    {
     "name": "stderr",
     "output_type": "stream",
     "text": [
      " 71%|███████   | 34036/48165 [7:08:02<2:50:20,  1.38it/s]"
     ]
    },
    {
     "name": "stdout",
     "output_type": "stream",
     "text": [
      "Saved a backup of  33000  iterations.\n"
     ]
    },
    {
     "name": "stderr",
     "output_type": "stream",
     "text": [
      " 73%|███████▎  | 35081/48165 [7:21:43<2:06:07,  1.73it/s] "
     ]
    },
    {
     "name": "stdout",
     "output_type": "stream",
     "text": [
      "Saved a backup of  34000  iterations.\n"
     ]
    },
    {
     "name": "stderr",
     "output_type": "stream",
     "text": [
      " 75%|███████▌  | 36140/48165 [7:35:36<2:43:38,  1.22it/s]"
     ]
    },
    {
     "name": "stdout",
     "output_type": "stream",
     "text": [
      "Saved a backup of  35000  iterations.\n"
     ]
    },
    {
     "name": "stderr",
     "output_type": "stream",
     "text": [
      " 77%|███████▋  | 37185/48165 [7:49:12<2:24:25,  1.27it/s]"
     ]
    },
    {
     "name": "stdout",
     "output_type": "stream",
     "text": [
      "Saved a backup of  36000  iterations.\n"
     ]
    },
    {
     "name": "stderr",
     "output_type": "stream",
     "text": [
      " 79%|███████▉  | 38206/48165 [8:02:47<1:58:03,  1.41it/s]"
     ]
    },
    {
     "name": "stdout",
     "output_type": "stream",
     "text": [
      "Saved a backup of  37000  iterations.\n"
     ]
    },
    {
     "name": "stderr",
     "output_type": "stream",
     "text": [
      " 82%|████████▏ | 39267/48165 [8:16:42<1:50:51,  1.34it/s]"
     ]
    },
    {
     "name": "stdout",
     "output_type": "stream",
     "text": [
      "Saved a backup of  38000  iterations.\n"
     ]
    },
    {
     "name": "stderr",
     "output_type": "stream",
     "text": [
      " 84%|████████▎ | 40325/48165 [8:30:26<1:42:12,  1.28it/s]"
     ]
    },
    {
     "name": "stdout",
     "output_type": "stream",
     "text": [
      "Saved a backup of  39000  iterations.\n"
     ]
    },
    {
     "name": "stderr",
     "output_type": "stream",
     "text": [
      " 86%|████████▌ | 41372/48165 [8:44:24<1:22:26,  1.37it/s]"
     ]
    },
    {
     "name": "stdout",
     "output_type": "stream",
     "text": [
      "Saved a backup of  40000  iterations.\n"
     ]
    },
    {
     "name": "stderr",
     "output_type": "stream",
     "text": [
      " 88%|████████▊ | 42437/48165 [8:58:24<1:13:06,  1.31it/s]"
     ]
    },
    {
     "name": "stdout",
     "output_type": "stream",
     "text": [
      "Saved a backup of  41000  iterations.\n"
     ]
    },
    {
     "name": "stderr",
     "output_type": "stream",
     "text": [
      " 90%|█████████ | 43516/48165 [9:12:22<59:43,  1.30it/s]  "
     ]
    },
    {
     "name": "stdout",
     "output_type": "stream",
     "text": [
      "Saved a backup of  42000  iterations.\n"
     ]
    },
    {
     "name": "stderr",
     "output_type": "stream",
     "text": [
      " 93%|█████████▎| 44616/48165 [9:26:20<44:58,  1.32it/s]  "
     ]
    },
    {
     "name": "stdout",
     "output_type": "stream",
     "text": [
      "Saved a backup of  43000  iterations.\n"
     ]
    },
    {
     "name": "stderr",
     "output_type": "stream",
     "text": [
      " 95%|█████████▍| 45688/48165 [9:40:04<33:23,  1.24it/s]  "
     ]
    },
    {
     "name": "stdout",
     "output_type": "stream",
     "text": [
      "Saved a backup of  44000  iterations.\n"
     ]
    },
    {
     "name": "stderr",
     "output_type": "stream",
     "text": [
      " 97%|█████████▋| 46910/48165 [9:54:25<13:31,  1.55it/s]"
     ]
    },
    {
     "name": "stdout",
     "output_type": "stream",
     "text": [
      "Saved a backup of  45000  iterations.\n"
     ]
    },
    {
     "name": "stderr",
     "output_type": "stream",
     "text": [
      "100%|██████████| 48165/48165 [10:08:47<00:00,  1.32it/s]\n"
     ]
    }
   ],
   "source": [
    "\n",
    "# TODO: Optimize memory usage, perhaps use batches or something? Check that types, it could also be reason for very high memory usage. (After doing data refinement, I noticed that the types are all objects which propably causes high memory usage)\n",
    "# TODO: Handle ConnectionErrors.\n",
    "\n",
    "\n",
    "houses_for_sale = []\n",
    "iterations = 0\n",
    "# for href in itertools.islice(houses_href, 0, 30): # For testing\n",
    "for href in tqdm(houses_href):\n",
    "\n",
    "    url = \"https://www.etuovi.com/\" + str(href)\n",
    "\n",
    "    data = requests.get(url).text\n",
    "\n",
    "    soup = BeautifulSoup(data, \"html.parser\")\n",
    "\n",
    "    # Type, rooms, kitchen, bathroom etc.\n",
    "    try:\n",
    "        house_type_etc = [i.string for i in soup.find('div', class_='flexboxgrid__col-xs-12__1I1LS flexboxgrid__col-md-6__1n8OT ItemSummaryContainer__alignLeft__2IE5Z')][0]\n",
    "    except:\n",
    "        TypeError\n",
    "        house_type_etc = None\n",
    "        continue\n",
    "\n",
    "\n",
    "    # City\n",
    "    try:\n",
    "        house_city = [i.string for i in soup.find('a', class_='MuiTypography-root MuiLink-root MuiLink-underlineHover InfoSegment__noStyleLink__2e28Y MuiTypography-colorPrimary')][0]\n",
    "    except:\n",
    "        TypeError\n",
    "        house_city = None\n",
    "        continue\n",
    "\n",
    "\n",
    "    #Area  \n",
    "    try:\n",
    "        house_area = [i.string for i in soup.find('a', class_='MuiTypography-root MuiLink-root MuiLink-underlineHover InfoSegment__noStyleLink__2e28Y MuiTypography-colorPrimary').nextSibling][1]\n",
    "    except:\n",
    "        TypeError\n",
    "        house_area = None\n",
    "        continue \n",
    "\n",
    "\n",
    "    #Address\n",
    "    try:\n",
    "        house_address = [i.string for i in soup.find('a', class_='MuiTypography-root MuiLink-root MuiLink-underlineHover InfoSegment__noStyleLink__2e28Y MuiTypography-colorPrimary').nextSibling.parent.nextSibling][0]\n",
    "    except:\n",
    "        TypeError\n",
    "        house_address = None\n",
    "        continue \n",
    "\n",
    "\n",
    "    # Price\n",
    "    try:\n",
    "        house_price = [i.string for i in soup.find('div', class_='flexboxgrid__col-xs-4__p2Lev flexboxgrid__col-md-5__3SFMx')][1]\n",
    "    except:\n",
    "        TypeError\n",
    "        house_price = None\n",
    "        continue\n",
    "\n",
    "    # Take only the number, not unit.\n",
    "    if house_price is None:\n",
    "        house_price = None \n",
    "    else: \n",
    "        house_price_number_temp = house_price[0:(len(house_price)-2)]\n",
    "        house_price_number = house_price_number_temp.replace('\\xa0', '')\n",
    "\n",
    "\n",
    "    # Size\n",
    "    try:\n",
    "        house_size = [i.string for i in soup.find('div', class_='flexboxgrid__col-xs-4__p2Lev flexboxgrid__col-md-4__2DYW-')][1]\n",
    "    except:\n",
    "        TypeError\n",
    "        house_size = None\n",
    "        continue\n",
    "\n",
    "    # Take only the number, not unit.\n",
    "    if house_size is None:\n",
    "        house_size_number = None\n",
    "    else: house_size_number = house_size.rsplit(' ', 100)[0]\n",
    "\n",
    "\n",
    "    # Year\n",
    "    try:\n",
    "        house_year = [i.string for i in soup.find('div', class_='flexboxgrid__col-xs-4__p2Lev flexboxgrid__col-md-3__1YPhN')][1]\n",
    "    except:\n",
    "        TypeError\n",
    "        house_year = None\n",
    "        continue\n",
    "\n",
    "    # Form of ownership\n",
    "    try:\n",
    "        house_form_of_ownership = [i.string for i in soup.find('div', class_='CompactInfoRow__infoRow__2hjs_ flexboxgrid__row__wfmuy').next_sibling.next_sibling.next_sibling][1]\n",
    "    except:\n",
    "        TypeError\n",
    "        house_form_of_ownership = None\n",
    "        continue\n",
    "\n",
    "\n",
    "    # \"house_type_etc\" is now in format type | number of rooms + etc. + etc.\n",
    "    # Lets divide it to own categories\n",
    "    house_type_etc = str(house_type_etc)\n",
    "    # house_type = house_type_etc.rsplit(' ', 100)[0]\n",
    "\n",
    "    houses_for_sale.append({\"Type\":str(house_type_etc),\"Address\":str(house_address), \"District\":str(house_area) ,\"City\":str(house_city), \"Price (€)\":str(house_price_number), \"Area (sqm.)\":str(house_size_number), \"Year built\" : str(house_year), \"Form of ownership\" : str(house_form_of_ownership)})\n",
    "    iterations += 1\n",
    "    if iterations % 1000 == 0:\n",
    "        houses_df = pd.DataFrame(houses_for_sale)\n",
    "        filename = 'BACKUP-' + str(iterations/1000) + 'K-iterations-' + date.today().strftime(\"%b-%d-%Y\") + '-house-market-data.csv'\n",
    "        houses_df.to_csv(filename, encoding=\"utf-8-sig\")\n",
    "        print(\"Saved a backup of \", iterations, \" iterations.\")\n",
    "    time.sleep(0.25)\n",
    "\n",
    "houses_df = pd.DataFrame(houses_for_sale)\n"
   ]
  },
  {
   "cell_type": "markdown",
   "id": "7f7e5887",
   "metadata": {},
   "source": [
    "## Saving the scraped data to a .csv file for later refinement and analysis."
   ]
  },
  {
   "cell_type": "code",
   "execution_count": 22,
   "id": "8fe670e7",
   "metadata": {},
   "outputs": [
    {
     "name": "stdout",
     "output_type": "stream",
     "text": [
      "Jul-10-2022-house-market-data.csv\n",
      "                                                    Type  \\\n",
      "0                              Kerrostalo | 1h, kk, kph.   \n",
      "1                    Kerrostalo | 1h + kk + alk + kh + p   \n",
      "2                                    Luhtitalo | 1h + kk   \n",
      "3           Kerrostalo | 2h + avokeittiö + kph / wc + vh   \n",
      "4      Omakotitalo | 4h, k, aula, vh, th, s-tilat, wc...   \n",
      "...                                                  ...   \n",
      "45948      Omakotitalo | 4h + k + ph + WC + vh + ullakko   \n",
      "45949  Erillistalo | 5h + k, sauna ja  2h + k parveke...   \n",
      "45950        Rivitalo | 3h + k + s + v + katettu terassi   \n",
      "45951  Omakotitalo | 4mh + oh + k + s + khh + aula + ...   \n",
      "45952             Kerrostalo | 3h + k + wc + kph + s + p   \n",
      "\n",
      "                        Address      District        City Price (€)  \\\n",
      "0            Soukanlahdenkatu 9   Armonkallio     Tampere    169000   \n",
      "1               Lepolankatu 3 A  Kivistönmäki       Lahti     39000   \n",
      "2              Viljatullintie 4    Järvenperä       Espoo    139000   \n",
      "3                 Maariankatu 2      Keskusta       Turku    215000   \n",
      "4           Puunkaatajantie 23b  Heikinlaakso    Helsinki    215000   \n",
      "...                         ...           ...         ...       ...   \n",
      "45948          Teuvantie, Kesti         Kesti     Kurikka    115000   \n",
      "45949           Kirjosillankatu    Myllypohja       Lahti    268000   \n",
      "45950             Koparatie 3-5      Keskusta   Sodankylä    108500   \n",
      "45951          Kaislarannantie5          None  Savonlinna    695000   \n",
      "45952  Lintulahdenaukio 12 A 16    Lintulahti    Helsinki    489000   \n",
      "\n",
      "      Area (sqm.) Year built Form of ownership  \n",
      "0              28       1963     Omistusasunto  \n",
      "1              34       1972     Omistusasunto  \n",
      "2            28,5       2018     Omistusasunto  \n",
      "3              48       1962     Omistusasunto  \n",
      "4              90       1933     Omistusasunto  \n",
      "...           ...        ...               ...  \n",
      "45948         100          -     Omistusasunto  \n",
      "45949         245       1991     Omistusasunto  \n",
      "45950          80       1986     Omistusasunto  \n",
      "45951         175       2008     Omistusasunto  \n",
      "45952        78,5       2000     Omistusasunto  \n",
      "\n",
      "[45953 rows x 8 columns]\n"
     ]
    }
   ],
   "source": [
    "today = date.today()\n",
    "bdy = today.strftime(\"%b-%d-%Y\")\n",
    "filename = bdy + '-house-market-data.csv'\n",
    "print(filename)\n",
    "houses_df.to_csv(filename, encoding=\"utf-8-sig\")\n",
    "\n",
    "print(houses_df)"
   ]
  },
  {
   "cell_type": "code",
   "execution_count": null,
   "id": "ba27b17e",
   "metadata": {},
   "outputs": [],
   "source": []
  }
 ],
 "metadata": {
  "kernelspec": {
   "display_name": "Python 3.8.13 ('Webscraping and Data Science')",
   "language": "python",
   "name": "python3"
  },
  "language_info": {
   "codemirror_mode": {
    "name": "ipython",
    "version": 3
   },
   "file_extension": ".py",
   "mimetype": "text/x-python",
   "name": "python",
   "nbconvert_exporter": "python",
   "pygments_lexer": "ipython3",
   "version": "3.8.13"
  },
  "vscode": {
   "interpreter": {
    "hash": "735f910f74695c6de02b2f60c5488624593c6ef6110038a08f3abc746094daf6"
   }
  }
 },
 "nbformat": 4,
 "nbformat_minor": 5
}
